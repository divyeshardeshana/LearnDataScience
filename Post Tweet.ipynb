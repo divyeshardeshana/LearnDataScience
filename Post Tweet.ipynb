{
 "cells": [
  {
   "cell_type": "code",
   "execution_count": null,
   "metadata": {},
   "outputs": [],
   "source": [
    "import tweepy\n",
    " \n",
    "# Consumer keys and access tokens, used for OAuth\n",
    "consumer_key = ‘XXXXXXXXXXXXX’\n",
    "consumer_secret = ‘XXXXXXXXXXXXX’\n",
    "access_token = ‘XXXXXXXXXXXXX’\n",
    "access_token_secret = ‘XXXXXXXXXXXXX’\n",
    " \n",
    "# OAuth process, using the keys and tokens\n",
    "auth = tweepy.OAuthHandler(consumer_key, consumer_secret)\n",
    "auth.set_access_token(access_token, access_token_secret)\n",
    " \n",
    "# Creation of the actual interface, using authentication\n",
    "api = tweepy.API(auth)\n",
    " \n",
    "# Sample method, used to update a status, you can write message whatever you want to post in twitter\n",
    "api.update_status(‘Happy Coding!' + \" #LearnPython\")\n"
   ]
  }
 ],
 "metadata": {
  "kernelspec": {
   "display_name": "Python 3",
   "language": "python",
   "name": "python3"
  }
 },
 "nbformat": 4,
 "nbformat_minor": 2
}
